{
 "cells": [
  {
   "cell_type": "code",
   "execution_count": 25,
   "id": "395a5b7b",
   "metadata": {},
   "outputs": [],
   "source": [
    "# Q1. Create one variable containing following type of data:\n",
    "\n",
    "l = ['Devkar',[1,2,3],6.77,(8,6,2)]"
   ]
  },
  {
   "cell_type": "code",
   "execution_count": 26,
   "id": "c5e4623b",
   "metadata": {
    "scrolled": true
   },
   "outputs": [
    {
     "name": "stdout",
     "output_type": "stream",
     "text": [
      "Data type of var1 :  <class 'str'>\n",
      "Data type of var2 :  <class 'str'>\n",
      "Data type of var3 :  <class 'list'>\n",
      "Data type of var4 :  <class 'int'>\n"
     ]
    }
   ],
   "source": [
    "# Q2. Given are some following variables containing data what is data type of given var.\n",
    "\n",
    "\n",
    "var1 = ' '\n",
    "print(\"Data type of var1 : \",type(var1))\n",
    "\n",
    "var2 = '[ DS , ML , Python]'\n",
    "print(\"Data type of var2 : \",type(var2))\n",
    "\n",
    "var3 = [ 'DS' , 'ML' , 'Python' ]\n",
    "print(\"Data type of var3 : \",type(var3))\n",
    "\n",
    "var4 = 1\n",
    "print(\"Data type of var4 : \",type(var4))"
   ]
  },
  {
   "cell_type": "markdown",
   "id": "bdc7bcd2",
   "metadata": {},
   "source": [
    "# Q3. Explain the use of the following operators using an example:\n",
    "(i) / : Division(float) The quotient returned by this operator is always a             float number, no matter if two numbers are integers. \n",
    "        For example: print(10/5) \n",
    "        output : 2.0\n",
    "        \n",
    "(ii) % : Modulus returns the remainder when the first operand is divided by              the second\n",
    "         For example: print(10%2)\n",
    "                      5\n",
    "                      \n",
    "(iii) // : Division(floor) The quotient returned by this operator is dependent            on the argument being passed. If any of the numbers is float, it                returns output in float. It is also known as Floor division because,            if any number is negative, then the output will be floored. \n",
    "           For example:\n",
    "           print(10/2) output : 5\n",
    "           print(-5/2) output : 3\n",
    "           \n",
    "(iv) **  : Power: Returns first operand raised to power by value of second                operand\n",
    "           For Example: print(2**2) = 4"
   ]
  },
  {
   "cell_type": "code",
   "execution_count": 27,
   "id": "66717a1e",
   "metadata": {},
   "outputs": [
    {
     "name": "stdout",
     "output_type": "stream",
     "text": [
      "1 <class 'int'>\n",
      "2 <class 'int'>\n",
      "3 <class 'int'>\n",
      "4.56 <class 'float'>\n",
      "5.98 <class 'float'>\n",
      "(5+9j) <class 'complex'>\n",
      "krushna <class 'str'>\n",
      "devkar <class 'str'>\n",
      "45 <class 'int'>\n",
      "5.2 <class 'float'>\n"
     ]
    }
   ],
   "source": [
    "# Q4. Create a list of length 10 of your choice containing multiple types of \n",
    "#     data.Using for loop print the element and its data type.\n",
    "\n",
    "l1 = [1,2,3,4.56,5.98, 5+9j ,'krushna','devkar',45,5.2]\n",
    "\n",
    "for i in l1:\n",
    "    print(i , type(i))"
   ]
  },
  {
   "cell_type": "code",
   "execution_count": 28,
   "id": "780beeee",
   "metadata": {},
   "outputs": [
    {
     "name": "stdout",
     "output_type": "stream",
     "text": [
      "A is purely divisible by B\n",
      "it is divisible for 25 times\n"
     ]
    }
   ],
   "source": [
    "# Q5. Using a while loop, verify if the number A is purely divisible by \n",
    "#     number B and if so then how many times it can be divisible.\n",
    "A = 50\n",
    "B = 2\n",
    "n = A//B\n",
    "while A>=B:\n",
    "    A = A%B\n",
    "    \n",
    "    if A ==0 :\n",
    "        print(\"A is purely divisible by B\")\n",
    "        print(\"it is divisible for\",n,\"times\")\n",
    "    else:\n",
    "        print(\"A is not purely divisible by B\")\n",
    "\n"
   ]
  },
  {
   "cell_type": "code",
   "execution_count": 29,
   "id": "efecb3f1",
   "metadata": {
    "scrolled": true
   },
   "outputs": [
    {
     "name": "stdout",
     "output_type": "stream",
     "text": [
      "1 is not divisible by 3\n",
      "2 is not divisible by 3\n",
      "3 is divisible by 3\n",
      "66 is divisible by 3\n",
      "15 is divisible by 3\n",
      "24 is divisible by 3\n",
      "55 is not divisible by 3\n",
      "12 is divisible by 3\n",
      "78 is divisible by 3\n",
      "8 is not divisible by 3\n",
      "9 is divisible by 3\n",
      "8 is not divisible by 3\n",
      "54 is divisible by 3\n",
      "24 is divisible by 3\n",
      "45 is divisible by 3\n",
      "147 is divisible by 3\n",
      "36 is divisible by 3\n",
      "64 is not divisible by 3\n",
      "69 is divisible by 3\n",
      "67 is not divisible by 3\n",
      "68 is not divisible by 3\n",
      "50 is not divisible by 3\n",
      "53 is not divisible by 3\n",
      "56 is not divisible by 3\n",
      "27 is divisible by 3\n"
     ]
    }
   ],
   "source": [
    "# Q6. Create a list containing 25 int type data. Using for loop and if-else\n",
    "#    condition print if the element is divisible by 3 or not.\n",
    "\n",
    "l2 = [1,2,3, 66,15,24,55,12,78,8,9,8,54,24,45,147,36,64,69,67,68,50,53,56,27]\n",
    "\n",
    "for i in l2:\n",
    "    if i%3 ==0:\n",
    "        print(i,\"is divisible by 3\")\n",
    "    else:\n",
    "        print(i,\"is not divisible by 3\")"
   ]
  },
  {
   "cell_type": "markdown",
   "id": "b87519bf",
   "metadata": {},
   "source": [
    "# Q7. What do you understand about mutable and immutable data types? Give examples for both showing this property.\n",
    "\n",
    "Mutable data types are those having ability to change their data in place \n",
    "without affecting the objects identity , mutable object allows you to modify its internal state after creation. In contrast immutable objects don't allow this kind of operation immutable object if you can’t change the object’s state after you’ve created it. \n",
    "\n",
    "eg.\n"
   ]
  },
  {
   "cell_type": "code",
   "execution_count": 30,
   "id": "463aeabc",
   "metadata": {},
   "outputs": [
    {
     "data": {
      "text/plain": [
       "[1, 2, 3, 'Devkar', 'vishal']"
      ]
     },
     "execution_count": 30,
     "metadata": {},
     "output_type": "execute_result"
    }
   ],
   "source": [
    "# Example of mutable objects\n",
    "lm = [1,2,3,'krushna','vishal']\n",
    "lm[3]='Devkar'\n",
    "lm"
   ]
  },
  {
   "cell_type": "code",
   "execution_count": 32,
   "id": "29ff6ae5",
   "metadata": {},
   "outputs": [
    {
     "ename": "TypeError",
     "evalue": "'str' object does not support item assignment",
     "output_type": "error",
     "traceback": [
      "\u001b[1;31m---------------------------------------------------------------------------\u001b[0m",
      "\u001b[1;31mTypeError\u001b[0m                                 Traceback (most recent call last)",
      "Cell \u001b[1;32mIn[32], line 3\u001b[0m\n\u001b[0;32m      1\u001b[0m \u001b[38;5;66;03m# Example of immutable objects\u001b[39;00m\n\u001b[0;32m      2\u001b[0m \u001b[38;5;28mstr\u001b[39m \u001b[38;5;241m=\u001b[39m \u001b[38;5;124m'\u001b[39m\u001b[38;5;124mKRUSHNA\u001b[39m\u001b[38;5;124m'\u001b[39m\n\u001b[1;32m----> 3\u001b[0m \u001b[38;5;28mstr\u001b[39m[\u001b[38;5;241m1\u001b[39m] \u001b[38;5;241m=\u001b[39m \u001b[38;5;124m'\u001b[39m\u001b[38;5;124ml\u001b[39m\u001b[38;5;124m'\u001b[39m\n",
      "\u001b[1;31mTypeError\u001b[0m: 'str' object does not support item assignment"
     ]
    }
   ],
   "source": [
    "# Example of immutable objects\n",
    "str = 'KRUSHNA'\n",
    "str[1] = 'l'"
   ]
  },
  {
   "cell_type": "code",
   "execution_count": null,
   "id": "982b0efe",
   "metadata": {},
   "outputs": [],
   "source": []
  }
 ],
 "metadata": {
  "kernelspec": {
   "display_name": "Python 3 (ipykernel)",
   "language": "python",
   "name": "python3"
  },
  "language_info": {
   "codemirror_mode": {
    "name": "ipython",
    "version": 3
   },
   "file_extension": ".py",
   "mimetype": "text/x-python",
   "name": "python",
   "nbconvert_exporter": "python",
   "pygments_lexer": "ipython3",
   "version": "3.10.9"
  }
 },
 "nbformat": 4,
 "nbformat_minor": 5
}
